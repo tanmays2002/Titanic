{
 "cells": [
  {
   "cell_type": "code",
   "execution_count": 12,
   "id": "e3eeafc2",
   "metadata": {},
   "outputs": [],
   "source": [
    "from sklearn.datasets import make_regression\n",
    "import matplotlib.pyplot as plt\n",
    "import numpy as np"
   ]
  },
  {
   "cell_type": "code",
   "execution_count": 13,
   "id": "da1a28c1",
   "metadata": {},
   "outputs": [],
   "source": [
    "X,y = make_regression(n_samples=100,n_features=1,n_informative=1,n_targets=1,noise=20)"
   ]
  },
  {
   "cell_type": "code",
   "execution_count": 14,
   "id": "e75affd9",
   "metadata": {},
   "outputs": [
    {
     "data": {
      "text/plain": [
       "<matplotlib.collections.PathCollection at 0x1bb4f734520>"
      ]
     },
     "execution_count": 14,
     "metadata": {},
     "output_type": "execute_result"
    },
    {
     "data": {
      "image/png": "[encoded data removed]",
      "text/plain": [
       "<Figure size 432x288 with 1 Axes>"
      ]
     },
     "metadata": {
      "needs_background": "light"
     },
     "output_type": "display_data"
    }
   ],
   "source": [
    "plt.scatter(X,y)"
   ]
  },
  {
   "cell_type": "code",
   "execution_count": 15,
   "id": "c374fad6",
   "metadata": {},
   "outputs": [],
   "source": [
    "from sklearn.linear_model import LinearRegression\n",
    "lr = LinearRegression()"
   ]
  },
  {
   "cell_type": "code",
   "execution_count": 16,
   "id": "d216d2a2",
   "metadata": {},
   "outputs": [
    {
     "data": {
      "text/plain": [
       "LinearRegression()"
      ]
     },
     "execution_count": 16,
     "metadata": {},
     "output_type": "execute_result"
    }
   ],
   "source": [
    "lr.fit(X,y)"
   ]
  },
  {
   "cell_type": "code",
   "execution_count": 17,
   "id": "7f527ab1",
   "metadata": {},
   "outputs": [
    {
     "name": "stdout",
     "output_type": "stream",
     "text": [
      "[89.16473547]\n",
      "4.25424759874989\n"
     ]
    }
   ],
   "source": [
    "print(lr.coef_)\n",
    "print(lr.intercept_)"
   ]
  },
  {
   "cell_type": "code",
   "execution_count": 18,
   "id": "36b14e16",
   "metadata": {},
   "outputs": [],
   "source": [
    "m = 89.16\n",
    "b = 4.25"
   ]
  },
  {
   "cell_type": "code",
   "execution_count": 25,
   "id": "20a4cc60",
   "metadata": {},
   "outputs": [],
   "source": [
    "class GDRegresser:\n",
    "    def __init__(self,learning_rate,epoch):\n",
    "        self.m = m\n",
    "        self.b = b\n",
    "        self.lr = learning_rate\n",
    "        self.epoch = epoch\n",
    "        \n",
    "    def fit(self,X,y):\n",
    "        #calculate the b using gd\n",
    "        for i in range(self.epoch):\n",
    "            loss_slope = -2 * np.sum(y - self.m * X.ravel() - self.b)\n",
    "            self.b = self.b - (self.lr * loss_slope)\n",
    "            print(loss_slope,self.b)\n",
    "            \n",
    "        print(self.b)"
   ]
  },
  {
   "cell_type": "code",
   "execution_count": 30,
   "id": "1c7638f5",
   "metadata": {},
   "outputs": [],
   "source": [
    "gd = GDRegresser(0.01,10)"
   ]
  },
  {
   "cell_type": "code",
   "execution_count": 31,
   "id": "e97ee3db",
   "metadata": {},
   "outputs": [
    {
     "name": "stdout",
     "output_type": "stream",
     "text": [
      "-0.7677486254684283 4.257677486254685\n",
      "0.7677486254686272 4.249999999999998\n",
      "-0.7677486254686663 4.257677486254685\n",
      "0.7677486254686272 4.249999999999998\n",
      "-0.7677486254686663 4.257677486254685\n",
      "0.7677486254686272 4.249999999999998\n",
      "-0.7677486254686663 4.257677486254685\n",
      "0.7677486254686272 4.249999999999998\n",
      "-0.7677486254686663 4.257677486254685\n",
      "0.7677486254686272 4.249999999999998\n",
      "4.249999999999998\n"
     ]
    }
   ],
   "source": [
    "gd.fit(X,y)"
   ]
  },
  {
   "cell_type": "code",
   "execution_count": null,
   "id": "794ae972",
   "metadata": {},
   "outputs": [],
   "source": []
  }
 ],
 "metadata": {
  "kernelspec": {
   "display_name": "Python 3",
   "language": "python",
   "name": "python3"
  },
  "language_info": {
   "codemirror_mode": {
    "name": "ipython",
    "version": 3
   },
   "file_extension": ".py",
   "mimetype": "text/x-python",
   "name": "python",
   "nbconvert_exporter": "python",
   "pygments_lexer": "ipython3",
   "version": "3.8.8"
  }
 },
 "nbformat": 4,
 "nbformat_minor": 5
}
